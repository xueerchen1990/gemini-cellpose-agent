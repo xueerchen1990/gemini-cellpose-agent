{
 "cells": [
  {
   "cell_type": "code",
   "execution_count": 1,
   "id": "ea2c0de2-0883-4134-9511-d0c3c4d69534",
   "metadata": {},
   "outputs": [],
   "source": [
    "from IPython.display import display, Markdown"
   ]
  },
  {
   "cell_type": "code",
   "execution_count": 2,
   "id": "6fb2ea50-0b0a-4829-a2fa-3e1aadc48da5",
   "metadata": {},
   "outputs": [
    {
     "name": "stdout",
     "output_type": "stream",
     "text": [
      "2024-11-30 14:07:38 - Created default config file at /Users/cat/github/gemini-cellpose-agent/notebooks/.chainlit/config.toml\n",
      "2024-11-30 14:07:38 - Created default translation directory at /Users/cat/github/gemini-cellpose-agent/notebooks/.chainlit/translations\n",
      "2024-11-30 14:07:38 - Created default translation file at /Users/cat/github/gemini-cellpose-agent/notebooks/.chainlit/translations/mr.json\n",
      "2024-11-30 14:07:38 - Created default translation file at /Users/cat/github/gemini-cellpose-agent/notebooks/.chainlit/translations/bn.json\n",
      "2024-11-30 14:07:38 - Created default translation file at /Users/cat/github/gemini-cellpose-agent/notebooks/.chainlit/translations/ta.json\n",
      "2024-11-30 14:07:38 - Created default translation file at /Users/cat/github/gemini-cellpose-agent/notebooks/.chainlit/translations/zh-CN.json\n",
      "2024-11-30 14:07:38 - Created default translation file at /Users/cat/github/gemini-cellpose-agent/notebooks/.chainlit/translations/ml.json\n",
      "2024-11-30 14:07:38 - Created default translation file at /Users/cat/github/gemini-cellpose-agent/notebooks/.chainlit/translations/kn.json\n",
      "2024-11-30 14:07:38 - Created default translation file at /Users/cat/github/gemini-cellpose-agent/notebooks/.chainlit/translations/gu.json\n",
      "2024-11-30 14:07:38 - Created default translation file at /Users/cat/github/gemini-cellpose-agent/notebooks/.chainlit/translations/hi.json\n",
      "2024-11-30 14:07:38 - Created default translation file at /Users/cat/github/gemini-cellpose-agent/notebooks/.chainlit/translations/te.json\n",
      "2024-11-30 14:07:38 - Created default translation file at /Users/cat/github/gemini-cellpose-agent/notebooks/.chainlit/translations/he-IL.json\n",
      "2024-11-30 14:07:38 - Created default translation file at /Users/cat/github/gemini-cellpose-agent/notebooks/.chainlit/translations/en-US.json\n",
      "Warning: ../.env not found. No environment variables loaded.\n"
     ]
    },
    {
     "name": "stderr",
     "output_type": "stream",
     "text": [
      "/Users/cat/miniforge3/envs/agent/lib/python3.11/site-packages/tqdm/auto.py:21: TqdmWarning: IProgress not found. Please update jupyter and ipywidgets. See https://ipywidgets.readthedocs.io/en/stable/user_install.html\n",
      "  from .autonotebook import tqdm as notebook_tqdm\n"
     ]
    }
   ],
   "source": [
    "import os\n",
    "import google.generativeai as genai\n",
    "from gemini_cell_agent.utils import exec_code, streaming_markdown, load_env\n",
    "from gemini_cell_agent.sys_prompt import pkg_sys_prompt\n",
    "\n",
    "import datetime\n",
    "\n",
    "load_env('../.env')\n",
    "#context_file = genai.upload_file(path='../data/cellpose.txt')\n",
    "sys_prompt = pkg_sys_prompt('cellpose')\n",
    "\n",
    "genai.configure(api_key=os.environ[\"GEMINI_API_KEY\"])\n",
    "model_name = \"gemini-1.5-flash\"\n",
    "config = genai.GenerationConfig(temperature=0)\n",
    "\n",
    "# Create a cache with a 5 minute TTL\n",
    "# cache = genai.caching.CachedContent.create(\n",
    "#     model=f'models/{model_name}-001',\n",
    "#     display_name='cellpose github repo content', # used to identify the cache\n",
    "#     system_instruction=sys_prompt,\n",
    "#     contents=[context_file],\n",
    "#     ttl=datetime.timedelta(minutes=10),\n",
    "# )\n",
    "\n",
    "# model = genai.GenerativeModel.from_cached_content(cached_content=cache, generation_config=config)\n",
    "model = genai.GenerativeModel(model_name, system_instruction=sys_prompt, generation_config=config)"
   ]
  },
  {
   "cell_type": "code",
   "execution_count": 3,
   "id": "953ced0c-a6e2-43bc-8d40-212e2bc4ec1f",
   "metadata": {},
   "outputs": [],
   "source": [
    "class Chatbot:\n",
    "    def __init__(self):\n",
    "        self.chat_history = []\n",
    "\n",
    "    def chat(self, user_input):\n",
    "        input_msg = user_input + f'\\n\\n Remember for coding tasks, please review the correct and wrong coding examples before generating the code.'\n",
    "        msg = streaming_markdown(model.start_chat(history=self.chat_history).send_message(input_msg, stream=True))\n",
    "        self.chat_history.append({\"role\": \"user\", \"parts\": input_msg})\n",
    "        self.chat_history.append({\"role\": \"model\", \"parts\": msg})\n",
    "        #print(f\"Bot: {msg}\")\n",
    "\n",
    "        while True:\n",
    "            if \"```python\" not in msg:\n",
    "                break\n",
    "            res = input(\"Execute code? (y/n): \")\n",
    "            if res.lower() == 'y':\n",
    "                code = msg.split(\"```python\")[1].split(\"```\")[0]\n",
    "                if 'plt.show()' in code:\n",
    "                    code = code.replace('plt.show()', 'plt.savefig(\"output.png\")')\n",
    "                print('Executing the generated code ...')\n",
    "                captured_output, error_message = exec_code(code)\n",
    "                print('Code execution done')\n",
    "                if error_message:\n",
    "                    print(f\"Error: {error_message}\")\n",
    "                    debug_res = input(\"Debug the code? (y/n): \")\n",
    "                    if debug_res.lower() == 'y':\n",
    "                        debug_input = f\"Error: {error_message}\\n\\nType and shape of the vars in the code:\\n{captured_output}\\n\\nCode:\\n{code}\"\n",
    "                        msg = streaming_markdown(model.start_chat(history=self.chat_history).send_message(debug_input, stream=True))\n",
    "                        self.chat_history.append({\"role\": \"user\", \"parts\": debug_input})\n",
    "                        self.chat_history.append({\"role\": \"model\", \"parts\": msg})\n",
    "                    else:\n",
    "                        print(\"Ok, I won't debug the code.\")\n",
    "                        break\n",
    "                else:\n",
    "                    print(\"Here is the output:\")\n",
    "                    print(f\"Image saved as output.png\")\n",
    "                    break\n",
    "            else:\n",
    "                print(\"Ok, I won't execute the code.\")\n",
    "                break"
   ]
  },
  {
   "cell_type": "code",
   "execution_count": 4,
   "id": "f44d69a9-1b75-4d78-90ae-a9f0d37b00bd",
   "metadata": {},
   "outputs": [],
   "source": [
    "chatbot = Chatbot()"
   ]
  },
  {
   "cell_type": "code",
   "execution_count": 6,
   "id": "d44b795b-bf07-4165-9160-2244387daf88",
   "metadata": {},
   "outputs": [
    {
     "data": {
      "text/markdown": [
       "Cellpose is a deep learning-based cell segmentation algorithm.  It's designed to be highly accurate and robust, even on images with significant variations in cell morphology, density, and staining.  Key features include:\n",
       "\n",
       "- **Model-free:** It doesn't require training on a specific dataset of cells; it uses a general model that works across various cell types and imaging modalities.\n",
       "- **Robust to noise and variations:** It handles variations in cell shape, size, and staining intensity effectively.\n",
       "- **Fast and efficient:** It's designed for speed and can process images relatively quickly.\n",
       "- **User-friendly:** It has a simple and intuitive interface, making it accessible to users with varying levels of programming expertise.\n",
       "- **Handles various image types:** It can segment cells in various microscopy images (brightfield, fluorescence, etc.).\n",
       "\n",
       "\n",
       "In short, Cellpose provides a powerful and versatile tool for automated cell segmentation, simplifying image analysis workflows in various biological research areas.\n"
      ],
      "text/plain": [
       "<IPython.core.display.Markdown object>"
      ]
     },
     "metadata": {},
     "output_type": "display_data"
    }
   ],
   "source": [
    "chatbot.chat('What is cellpose?')"
   ]
  },
  {
   "cell_type": "code",
   "execution_count": 7,
   "id": "ad75427f-09d3-45dd-8693-f93890c47b1d",
   "metadata": {},
   "outputs": [
    {
     "data": {
      "text/markdown": [
       "```python\n",
       "from cellpose import models, io\n",
       "import matplotlib.pyplot as plt\n",
       "\n",
       "# Example image path (replace with your actual image path)\n",
       "img_path = 'path/to/your/image.tif'  \n",
       "\n",
       "# Load the image\n",
       "img = io.imread(img_path)\n",
       "\n",
       "# Define the model (using a pre-trained model)\n",
       "model = models.Cellpose(gpu=False, model_type='cyto')\n",
       "\n",
       "# Segment the image\n",
       "masks, flows, styles, diams = model.eval(img, diameter=30, flow_threshold=0.4)\n",
       "\n",
       "# Display the results\n",
       "plt.figure(figsize=(12, 5))\n",
       "plt.subplot(1, 2, 1)\n",
       "plt.imshow(img)\n",
       "plt.title('Original Image')\n",
       "plt.subplot(1, 2, 2)\n",
       "plt.imshow(masks)\n",
       "plt.title('Segmentation Mask')\n",
       "plt.show()\n",
       "\n",
       "```\n"
      ],
      "text/plain": [
       "<IPython.core.display.Markdown object>"
      ]
     },
     "metadata": {},
     "output_type": "display_data"
    },
    {
     "name": "stdin",
     "output_type": "stream",
     "text": [
      "Execute code? (y/n):  Y\n"
     ]
    },
    {
     "name": "stdout",
     "output_type": "stream",
     "text": [
      "Executing the generated code ...\n",
      "Code execution done\n",
      "Error: Error occurred at line 9 in <string>:\n",
      "img = io.imread(img_path)\n",
      "Traceback (most recent call last):\n",
      "  File \"/Users/cat/miniforge3/envs/agent/lib/python3.11/site-packages/gemini_cell_agent/utils.py\", line 122, in exec_code\n",
      "    exec(code)\n",
      "  File \"<string>\", line 9, in <module>\n",
      "  File \"/Users/cat/miniforge3/envs/agent/lib/python3.11/site-packages/cellpose/io.py\", line 158, in imread\n",
      "    with tifffile.TiffFile(filename) as tif:\n",
      "         ^^^^^^^^^^^^^^^^^^^^^^^^^^^\n",
      "  File \"/Users/cat/miniforge3/envs/agent/lib/python3.11/site-packages/tifffile/tifffile.py\", line 4318, in __init__\n",
      "    fh = FileHandle(file, mode=mode, name=name, offset=offset, size=size)\n",
      "         ^^^^^^^^^^^^^^^^^^^^^^^^^^^^^^^^^^^^^^^^^^^^^^^^^^^^^^^^^^^^^^^^\n",
      "  File \"/Users/cat/miniforge3/envs/agent/lib/python3.11/site-packages/tifffile/tifffile.py\", line 14727, in __init__\n",
      "    self.open()\n",
      "  File \"/Users/cat/miniforge3/envs/agent/lib/python3.11/site-packages/tifffile/tifffile.py\", line 14746, in open\n",
      "    self._fh = open(self._file, self._mode, encoding=None)\n",
      "               ^^^^^^^^^^^^^^^^^^^^^^^^^^^^^^^^^^^^^^^^^^^\n",
      "FileNotFoundError: [Errno 2] No such file or directory: '/Users/cat/github/gemini-cellpose-agent/notebooks/path/to/your/image.tif'\n",
      "\n"
     ]
    },
    {
     "name": "stdin",
     "output_type": "stream",
     "text": [
      "Debug the code? (y/n):  y\n"
     ]
    },
    {
     "name": "stdout",
     "output_type": "stream",
     "text": [
      "Bot: The error message clearly states that the file `/Users/cat/github/gemini-cellpose-agent/notebooks/path/to/your/image.tif`  was not found.  The problem is that `img_path` is a placeholder and needs to be replaced with the *actual* path to your image file.\n",
      "\n",
      "\n",
      "Here's the corrected code.  **Before running it, replace `\"your_image.tif\"` with the correct path to your image file.**\n",
      "\n",
      "```python\n",
      "from cellpose import models, io\n",
      "import matplotlib.pyplot as plt\n",
      "\n",
      "# Replace with the actual path to your image file\n",
      "img_path = \"your_image.tif\"  \n",
      "\n",
      "# Load the image\n",
      "img = io.imread(img_path)\n",
      "\n",
      "# Define the model (using a pre-trained model)\n",
      "model = models.Cellpose(gpu=False, model_type='cyto')\n",
      "\n",
      "# Segment the image\n",
      "masks, flows, styles, diams = model.eval(img, diameter=30, flow_threshold=0.4)\n",
      "\n",
      "# Display the results\n",
      "plt.figure(figsize=(12, 5))\n",
      "plt.subplot(1, 2, 1)\n",
      "plt.imshow(img)\n",
      "plt.title('Original Image')\n",
      "plt.subplot(1, 2, 2)\n",
      "plt.imshow(masks)\n",
      "plt.title('Segmentation Mask')\n",
      "plt.show() #removed plt.savefig, as requested in prompt\n",
      "\n",
      "```\n",
      "\n",
      "Remember to install the necessary libraries: `cellpose` and `matplotlib`.  You can install them using pip:  `pip install cellpose matplotlib`\n",
      "\n"
     ]
    },
    {
     "name": "stdin",
     "output_type": "stream",
     "text": [
      "Execute code? (y/n):  n\n"
     ]
    },
    {
     "name": "stdout",
     "output_type": "stream",
     "text": [
      "Ok, I won't execute the code.\n"
     ]
    }
   ],
   "source": [
    "chatbot.chat('please write code to segment a cell image')"
   ]
  }
 ],
 "metadata": {
  "kernelspec": {
   "display_name": "Python 3 (ipykernel)",
   "language": "python",
   "name": "python3"
  },
  "language_info": {
   "codemirror_mode": {
    "name": "ipython",
    "version": 3
   },
   "file_extension": ".py",
   "mimetype": "text/x-python",
   "name": "python",
   "nbconvert_exporter": "python",
   "pygments_lexer": "ipython3",
   "version": "3.11.10"
  }
 },
 "nbformat": 4,
 "nbformat_minor": 5
}
