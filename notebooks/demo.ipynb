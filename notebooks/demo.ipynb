{
 "cells": [
  {
   "cell_type": "code",
   "execution_count": null,
   "id": "6fb2ea50-0b0a-4829-a2fa-3e1aadc48da5",
   "metadata": {},
   "outputs": [],
   "source": [
    "import os\n",
    "import chainlit as cl\n",
    "import google.generativeai as genai\n",
    "from gemini_cell_agent.utils import exec_code, append_image_metadata\n",
    "from gemini_cell_agent.sys_prompt import pkg_sys_prompt\n",
    "\n",
    "import datetime\n",
    "\n",
    "context_file = genai.upload_file(path='../data/cellpose.txt')\n",
    "sys_prompt = pkg_sys_prompt('cellpose')\n",
    "\n",
    "genai.configure(api_key=os.environ[\"GEMINI_API_KEY\"])\n",
    "model_name = \"gemini-1.5-flash\"\n",
    "config = genai.GenerationConfig(temperature=0)\n",
    "\n",
    "# Create a cache with a 5 minute TTL\n",
    "cache = genai.caching.CachedContent.create(\n",
    "    model=f'models/{model_name}-001',\n",
    "    display_name='cellpose github repo content', # used to identify the cache\n",
    "    system_instruction=sys_prompt,\n",
    "    contents=[context_file],\n",
    "    ttl=datetime.timedelta(minutes=10),\n",
    ")\n",
    "\n",
    "model = genai.GenerativeModel.from_cached_content(cached_content=cache, generation_config=config)"
   ]
  },
  {
   "cell_type": "code",
   "execution_count": null,
   "id": "953ced0c-a6e2-43bc-8d40-212e2bc4ec1f",
   "metadata": {},
   "outputs": [],
   "source": []
  }
 ],
 "metadata": {
  "kernelspec": {
   "display_name": "Python 3 (ipykernel)",
   "language": "python",
   "name": "python3"
  },
  "language_info": {
   "codemirror_mode": {
    "name": "ipython",
    "version": 3
   },
   "file_extension": ".py",
   "mimetype": "text/x-python",
   "name": "python",
   "nbconvert_exporter": "python",
   "pygments_lexer": "ipython3",
   "version": "3.11.10"
  }
 },
 "nbformat": 4,
 "nbformat_minor": 5
}
